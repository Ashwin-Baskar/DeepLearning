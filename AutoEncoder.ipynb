{
 "cells": [
  {
   "cell_type": "code",
   "execution_count": 1,
   "id": "8fc6346f",
   "metadata": {},
   "outputs": [],
   "source": [
    "from tensorflow.python.keras.layers import Dense,Conv2D,MaxPooling2D,UpSampling2D\n",
    "from tensorflow.python.keras import Input, Model\n",
    "from tensorflow.python.keras.datasets import mnist\n",
    "import numpy as np\n",
    "import matplotlib.pyplot as plt"
   ]
  },
  {
   "cell_type": "code",
   "execution_count": 2,
   "id": "65f77c5b",
   "metadata": {},
   "outputs": [
    {
     "name": "stdout",
     "output_type": "stream",
     "text": [
      "Model: \"sequential\"\n",
      "_________________________________________________________________\n",
      "Layer (type)                 Output Shape              Param #   \n",
      "=================================================================\n",
      "conv2d (Conv2D)              (None, 28, 28, 30)        300       \n",
      "_________________________________________________________________\n",
      "max_pooling2d (MaxPooling2D) (None, 14, 14, 30)        0         \n",
      "_________________________________________________________________\n",
      "conv2d_1 (Conv2D)            (None, 14, 14, 15)        4065      \n",
      "_________________________________________________________________\n",
      "max_pooling2d_1 (MaxPooling2 (None, 7, 7, 15)          0         \n",
      "_________________________________________________________________\n",
      "conv2d_2 (Conv2D)            (None, 7, 7, 15)          2040      \n",
      "_________________________________________________________________\n",
      "up_sampling2d (UpSampling2D) (None, 14, 14, 15)        0         \n",
      "_________________________________________________________________\n",
      "conv2d_3 (Conv2D)            (None, 14, 14, 30)        4080      \n",
      "_________________________________________________________________\n",
      "up_sampling2d_1 (UpSampling2 (None, 28, 28, 30)        0         \n",
      "_________________________________________________________________\n",
      "conv2d_4 (Conv2D)            (None, 28, 28, 1)         271       \n",
      "=================================================================\n",
      "Total params: 10,756\n",
      "Trainable params: 10,756\n",
      "Non-trainable params: 0\n",
      "_________________________________________________________________\n"
     ]
    }
   ],
   "source": [
    "from tensorflow.python.keras.models import Sequential\n",
    "\n",
    "model = Sequential()\n",
    "\n",
    "# encoder network\n",
    "model.add(Conv2D(30, 3, activation= 'relu', padding='same', input_shape = (28,28,1)))\n",
    "model.add(MaxPooling2D(2, padding= 'same'))\n",
    "model.add(Conv2D(15, 3, activation= 'relu', padding='same'))\n",
    "model.add(MaxPooling2D(2, padding= 'same'))\n",
    "\n",
    "#decoder network\n",
    "model.add(Conv2D(15, 3, activation= 'relu', padding='same'))\n",
    "model.add(UpSampling2D(2))\n",
    "model.add(Conv2D(30, 3, activation= 'relu', padding='same'))\n",
    "model.add(UpSampling2D(2))\n",
    "model.add(Conv2D(1,3,activation='sigmoid', padding= 'same')) # output layer\n",
    "\n",
    "model.compile(optimizer= 'adam', loss = 'binary_crossentropy')\n",
    "\n",
    "model.summary()"
   ]
  },
  {
   "cell_type": "code",
   "execution_count": 3,
   "id": "b2c53680",
   "metadata": {},
   "outputs": [
    {
     "name": "stdout",
     "output_type": "stream",
     "text": [
      "Epoch 1/15\n",
      "469/469 [==============================] - 88s 186ms/step - loss: 0.2167 - val_loss: 0.0805\n",
      "Epoch 2/15\n",
      "469/469 [==============================] - 86s 184ms/step - loss: 0.0798 - val_loss: 0.0753\n",
      "Epoch 3/15\n",
      "469/469 [==============================] - 88s 188ms/step - loss: 0.0756 - val_loss: 0.0734\n",
      "Epoch 4/15\n",
      "469/469 [==============================] - 88s 188ms/step - loss: 0.0736 - val_loss: 0.0719\n",
      "Epoch 5/15\n",
      "469/469 [==============================] - 86s 184ms/step - loss: 0.0722 - val_loss: 0.0712\n",
      "Epoch 6/15\n",
      "469/469 [==============================] - 85s 181ms/step - loss: 0.0714 - val_loss: 0.0702\n",
      "Epoch 7/15\n",
      "469/469 [==============================] - 85s 182ms/step - loss: 0.0708 - val_loss: 0.0699\n",
      "Epoch 8/15\n",
      "469/469 [==============================] - 88s 188ms/step - loss: 0.0702 - val_loss: 0.0694\n",
      "Epoch 9/15\n",
      "469/469 [==============================] - 87s 185ms/step - loss: 0.0698 - val_loss: 0.0689\n",
      "Epoch 10/15\n",
      "469/469 [==============================] - 87s 185ms/step - loss: 0.0694 - val_loss: 0.0686\n",
      "Epoch 11/15\n",
      "469/469 [==============================] - 92s 197ms/step - loss: 0.0691 - val_loss: 0.0683\n",
      "Epoch 12/15\n",
      "469/469 [==============================] - 86s 184ms/step - loss: 0.0688 - val_loss: 0.0683\n",
      "Epoch 13/15\n",
      "469/469 [==============================] - 86s 184ms/step - loss: 0.0687 - val_loss: 0.0678\n",
      "Epoch 14/15\n",
      "469/469 [==============================] - 90s 192ms/step - loss: 0.0682 - val_loss: 0.0676\n",
      "Epoch 15/15\n",
      "469/469 [==============================] - 91s 194ms/step - loss: 0.0681 - val_loss: 0.0675\n"
     ]
    },
    {
     "data": {
      "text/plain": [
       "<tensorflow.python.keras.callbacks.History at 0x1bbfd6603d0>"
      ]
     },
     "execution_count": 3,
     "metadata": {},
     "output_type": "execute_result"
    }
   ],
   "source": [
    "(x_train, _), (x_test, _) = mnist.load_data()\n",
    "\n",
    "x_train = x_train.astype('float32') / 255.\n",
    "x_test = x_test.astype('float32') / 255.\n",
    "x_train = np.reshape(x_train, (len(x_train), 28, 28, 1))\n",
    "x_test = np.reshape(x_test, (len(x_test), 28, 28, 1))\n",
    "\n",
    "model.fit(x_train, x_train, epochs=15, batch_size=128, validation_data=(x_test, x_test))"
   ]
  },
  {
   "cell_type": "code",
   "execution_count": 13,
   "id": "26f0be64",
   "metadata": {},
   "outputs": [
    {
     "data": {
      "image/png": "[encoded data removed]",
      "text/plain": [
       "<Figure size 432x288 with 1 Axes>"
      ]
     },
     "metadata": {
      "needs_background": "light"
     },
     "output_type": "display_data"
    },
    {
     "data": {
      "image/png": "[encoded data removed]",
      "text/plain": [
       "<Figure size 432x288 with 1 Axes>"
      ]
     },
     "metadata": {
      "needs_background": "light"
     },
     "output_type": "display_data"
    }
   ],
   "source": [
    "pred = model.predict(x_test)\n",
    "\n",
    "\n",
    "plt.imshow(x_test[0].reshape(28, 28),cmap='gray')\n",
    "plt.show()\n",
    "\n",
    "plt.imshow(pred[0].reshape(28, 28),cmap='gray')\n",
    "plt.show()"
   ]
  },
  {
   "cell_type": "code",
   "execution_count": 7,
   "id": "9ee3486d",
   "metadata": {},
   "outputs": [],
   "source": [
    "noise_factor = 0.7\n",
    "x_train_noisy = x_train + noise_factor * np.random.normal(loc=0.0, scale=1.0, size=x_train.shape) \n",
    "x_test_noisy = x_test + noise_factor * np.random.normal(loc=0.0, scale=1.0, size=x_test.shape) \n",
    "\n",
    "x_train_noisy = np.clip(x_train_noisy, 0., 1.)\n",
    "x_test_noisy = np.clip(x_test_noisy, 0., 1.)"
   ]
  },
  {
   "cell_type": "code",
   "execution_count": 10,
   "id": "fb16b799",
   "metadata": {},
   "outputs": [
    {
     "name": "stdout",
     "output_type": "stream",
     "text": [
      "Epoch 1/15\n",
      "469/469 [==============================] - 104s 220ms/step - loss: 0.1982 - val_loss: 0.0770\n",
      "Epoch 2/15\n",
      "469/469 [==============================] - 102s 218ms/step - loss: 0.0765 - val_loss: 0.0728\n",
      "Epoch 3/15\n",
      "469/469 [==============================] - 97s 206ms/step - loss: 0.0730 - val_loss: 0.0712\n",
      "Epoch 4/15\n",
      "469/469 [==============================] - 98s 208ms/step - loss: 0.0715 - val_loss: 0.0700\n",
      "Epoch 5/15\n",
      "469/469 [==============================] - 101s 216ms/step - loss: 0.0704 - val_loss: 0.0691\n",
      "Epoch 6/15\n",
      "469/469 [==============================] - 100s 213ms/step - loss: 0.0697 - val_loss: 0.0693\n",
      "Epoch 7/15\n",
      "469/469 [==============================] - 100s 212ms/step - loss: 0.0690 - val_loss: 0.0684\n",
      "Epoch 8/15\n",
      "469/469 [==============================] - 101s 216ms/step - loss: 0.0685 - val_loss: 0.0676\n",
      "Epoch 9/15\n",
      "469/469 [==============================] - 105s 223ms/step - loss: 0.0681 - val_loss: 0.0673\n",
      "Epoch 10/15\n",
      "469/469 [==============================] - 103s 219ms/step - loss: 0.0677 - val_loss: 0.0672\n",
      "Epoch 11/15\n",
      "469/469 [==============================] - 96s 205ms/step - loss: 0.0674 - val_loss: 0.0666\n",
      "Epoch 12/15\n",
      "469/469 [==============================] - 96s 205ms/step - loss: 0.0672 - val_loss: 0.0664\n",
      "Epoch 13/15\n",
      "469/469 [==============================] - 99s 211ms/step - loss: 0.0668 - val_loss: 0.0662\n",
      "Epoch 14/15\n",
      "469/469 [==============================] - 102s 217ms/step - loss: 0.0665 - val_loss: 0.0660\n",
      "Epoch 15/15\n",
      "469/469 [==============================] - 96s 205ms/step - loss: 0.0663 - val_loss: 0.0658\n"
     ]
    },
    {
     "data": {
      "text/plain": [
       "<tensorflow.python.keras.callbacks.History at 0x1bb81a09490>"
      ]
     },
     "execution_count": 10,
     "metadata": {},
     "output_type": "execute_result"
    }
   ],
   "source": [
    "model = Sequential()\n",
    "\n",
    "# encoder network\n",
    "model.add(Conv2D(35, 3, activation= 'relu', padding='same', input_shape = (28,28,1)))\n",
    "model.add(MaxPooling2D(2, padding= 'same'))\n",
    "model.add(Conv2D(25, 3, activation= 'relu', padding='same'))\n",
    "model.add(MaxPooling2D(2, padding= 'same'))\n",
    "\n",
    "#decoder network\n",
    "model.add(Conv2D(25, 3, activation= 'relu', padding='same'))\n",
    "model.add(UpSampling2D(2))\n",
    "model.add(Conv2D(35, 3, activation= 'relu', padding='same'))\n",
    "model.add(UpSampling2D(2))\n",
    "model.add(Conv2D(1,3,activation='sigmoid', padding= 'same')) # output layer\n",
    "\n",
    "model.compile(optimizer= 'adam', loss = 'binary_crossentropy')\n",
    "\n",
    "model.fit(x_train, x_train, epochs=15, batch_size=128, validation_data=(x_test, x_test))"
   ]
  },
  {
   "cell_type": "code",
   "execution_count": 12,
   "id": "339265de",
   "metadata": {},
   "outputs": [
    {
     "data": {
      "image/png": "[encoded data removed]",
      "text/plain": [
       "<Figure size 432x288 with 1 Axes>"
      ]
     },
     "metadata": {
      "needs_background": "light"
     },
     "output_type": "display_data"
    },
    {
     "data": {
      "image/png": "[encoded data removed]",
      "text/plain": [
       "<Figure size 432x288 with 1 Axes>"
      ]
     },
     "metadata": {
      "needs_background": "light"
     },
     "output_type": "display_data"
    }
   ],
   "source": [
    "pred = model.predict(x_test_noisy)\n",
    "\n",
    "plt.imshow(x_test_noisy[1].reshape(28, 28),cmap='gray')\n",
    "plt.show()\n",
    "\n",
    "plt.imshow(pred[1].reshape(28, 28),cmap='gray')\n",
    "plt.show()"
   ]
  },
  {
   "cell_type": "code",
   "execution_count": null,
   "id": "2de91343",
   "metadata": {},
   "outputs": [],
   "source": []
  }
 ],
 "metadata": {
  "kernelspec": {
   "display_name": "Python 3",
   "language": "python",
   "name": "python3"
  },
  "language_info": {
   "codemirror_mode": {
    "name": "ipython",
    "version": 3
   },
   "file_extension": ".py",
   "mimetype": "text/x-python",
   "name": "python",
   "nbconvert_exporter": "python",
   "pygments_lexer": "ipython3",
   "version": "3.8.8"
  }
 },
 "nbformat": 4,
 "nbformat_minor": 5
}
