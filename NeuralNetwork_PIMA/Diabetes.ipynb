{
 "cells": [
  {
   "cell_type": "code",
   "execution_count": 1,
   "metadata": {
    "id": "RHQlU49-GZKK"
   },
   "outputs": [],
   "source": [
    "import pandas as pd\n",
    "import numpy as np\n",
    "\n",
    "from tensorflow.python.keras.models import Sequential\n",
    "from tensorflow.python.keras.layers import Dense\n",
    "\n",
    "from sklearn.model_selection import train_test_split"
   ]
  },
  {
   "cell_type": "code",
   "execution_count": 2,
   "metadata": {
    "colab": {
     "base_uri": "https://localhost:8080/"
    },
    "id": "ArYPGpEwGZKO",
    "outputId": "79149cb9-9853-4dc3-cdc1-211235c83f42"
   },
   "outputs": [],
   "source": [
    "dataframe = pd.read_csv(\"diabetes.csv\")\n",
    "\n",
    "df_label = dataframe['Outcome']\n",
    "df_features = dataframe.drop('Outcome', 1)"
   ]
  },
  {
   "cell_type": "code",
   "execution_count": 3,
   "metadata": {
    "id": "YhStSGU3GZKQ"
   },
   "outputs": [],
   "source": [
    "label = []\n",
    "for lab in df_label:\n",
    "    if lab == 1:\n",
    "        label.append([1, 0])\n",
    "    elif lab == 0:\n",
    "        label.append([0, 1])\n",
    "\n",
    "data = np.array(df_features)\n",
    "label = np.array(label)\n",
    "\n",
    "x_train, x_test, y_train, y_test = train_test_split(data, label, test_size=0.2, random_state=42)"
   ]
  },
  {
   "cell_type": "code",
   "execution_count": 4,
   "metadata": {
    "colab": {
     "base_uri": "https://localhost:8080/"
    },
    "id": "xTmmzP3PGZKS",
    "outputId": "d9b8dcc2-f9e9-47ed-a7ac-1b91d5faf689"
   },
   "outputs": [
    {
     "name": "stdout",
     "output_type": "stream",
     "text": [
      "Epoch 1/10\n",
      "9/9 [==============================] - 3s 164ms/step - loss: 0.3246 - accuracy: 0.4712 - val_loss: 0.2647 - val_accuracy: 0.6429\n",
      "Epoch 2/10\n",
      "9/9 [==============================] - 0s 9ms/step - loss: 0.2315 - accuracy: 0.6593 - val_loss: 0.2189 - val_accuracy: 0.6818\n",
      "Epoch 3/10\n",
      "9/9 [==============================] - 0s 9ms/step - loss: 0.2177 - accuracy: 0.6343 - val_loss: 0.2143 - val_accuracy: 0.6753\n",
      "Epoch 4/10\n",
      "9/9 [==============================] - 0s 9ms/step - loss: 0.1934 - accuracy: 0.7076 - val_loss: 0.2103 - val_accuracy: 0.6688\n",
      "Epoch 5/10\n",
      "9/9 [==============================] - 0s 10ms/step - loss: 0.1986 - accuracy: 0.6913 - val_loss: 0.2002 - val_accuracy: 0.6883\n",
      "Epoch 6/10\n",
      "9/9 [==============================] - 0s 10ms/step - loss: 0.1978 - accuracy: 0.6840 - val_loss: 0.2017 - val_accuracy: 0.6883\n",
      "Epoch 7/10\n",
      "9/9 [==============================] - 0s 10ms/step - loss: 0.1882 - accuracy: 0.7182 - val_loss: 0.2044 - val_accuracy: 0.6688\n",
      "Epoch 8/10\n",
      "9/9 [==============================] - 0s 9ms/step - loss: 0.1867 - accuracy: 0.7214 - val_loss: 0.2019 - val_accuracy: 0.6753\n",
      "Epoch 9/10\n",
      "9/9 [==============================] - 0s 10ms/step - loss: 0.1757 - accuracy: 0.7382 - val_loss: 0.1977 - val_accuracy: 0.7143\n",
      "Epoch 10/10\n",
      "9/9 [==============================] - 0s 10ms/step - loss: 0.1833 - accuracy: 0.7443 - val_loss: 0.1960 - val_accuracy: 0.7078\n"
     ]
    },
    {
     "data": {
      "text/plain": [
       "<tensorflow.python.keras.callbacks.History at 0x1dc789ea130>"
      ]
     },
     "execution_count": 4,
     "metadata": {},
     "output_type": "execute_result"
    }
   ],
   "source": [
    "model = Sequential()\n",
    "model.add(Dense(500, input_dim=8, activation='sigmoid'))\n",
    "model.add(Dense(100, activation='sigmoid'))\n",
    "model.add(Dense(2, activation='softmax'))\n",
    "model.compile(loss='mean_squared_error', optimizer='adam', metrics=['accuracy'])\n",
    "model.fit(x_train,y_train, epochs=10, batch_size=70, validation_data=(x_test, y_test))"
   ]
  },
  {
   "cell_type": "code",
   "execution_count": 5,
   "metadata": {
    "colab": {
     "base_uri": "https://localhost:8080/"
    },
    "id": "bs8r_p31GZKT",
    "outputId": "17da0fc6-8e24-432f-ebbc-51c9ae3a2ff0"
   },
   "outputs": [
    {
     "data": {
      "text/plain": [
       "1"
      ]
     },
     "execution_count": 5,
     "metadata": {},
     "output_type": "execute_result"
    }
   ],
   "source": [
    "sample_test = np.array([x_train[1]])\n",
    "result=model.predict(sample_test)\n",
    "\n",
    "int(np.argmax(result,axis=1))"
   ]
  }
 ],
 "metadata": {
  "colab": {
   "provenance": []
  },
  "kernelspec": {
   "display_name": "Python 3",
   "language": "python",
   "name": "python3"
  },
  "language_info": {
   "codemirror_mode": {
    "name": "ipython",
    "version": 3
   },
   "file_extension": ".py",
   "mimetype": "text/x-python",
   "name": "python",
   "nbconvert_exporter": "python",
   "pygments_lexer": "ipython3",
   "version": "3.8.8"
  }
 },
 "nbformat": 4,
 "nbformat_minor": 1
}
